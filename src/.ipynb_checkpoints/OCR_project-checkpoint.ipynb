{
 "cells": [
  {
   "cell_type": "markdown",
   "metadata": {},
   "source": [
    "# Handwritten letter recognition with machine learning"
   ]
  },
  {
   "cell_type": "markdown",
   "metadata": {},
   "source": [
    "## Data and preparing it"
   ]
  },
  {
   "cell_type": "markdown",
   "metadata": {},
   "source": [
    "importing needed libraries (tensorflow and matplotlib)"
   ]
  },
  {
   "cell_type": "code",
   "execution_count": 1,
   "metadata": {},
   "outputs": [],
   "source": [
    "import csv\n",
    "import matplotlib.pyplot as plt\n",
    "import numpy as np\n",
    "import tensorflow as tf\n",
    "from tensorflow.keras import layers\n",
    "\n",
    "from PIL import Image"
   ]
  },
  {
   "cell_type": "markdown",
   "metadata": {},
   "source": [
    "Dataset used in project is download from http://ai.stanford.edu/~btaskar/ocr/ and converted to csv file type. Dataset contains handwritten words, which have been divided into letters, collected by Rob Kassel at MIT Spoken Language Systems Group.\n",
    "\n",
    "Data contains fields:\n",
    "\n",
    "1. id: each letter is assigned a unique integer id\n",
    "2. letter: a-z\n",
    "3. next_id: id for next letter in the word, -1 if last letter\n",
    "4. word_id: each word is assigned a unique integer id (not used)\n",
    "5. position: position of letter in the word (not used)\n",
    "6. fold: 0-9 -- cross-validation fold\n",
    "7. p_i_j: 0/1 -- value of pixel in row i, column j"
   ]
  },
  {
   "cell_type": "markdown",
   "metadata": {},
   "source": [
    "Data is converted two numpy arrays. Array named letters have info  of letter as ascii value. Types of valeus are floats. Arrays contains the image arrays of letters. Types of values are float32."
   ]
  },
  {
   "cell_type": "code",
   "execution_count": 2,
   "metadata": {},
   "outputs": [],
   "source": [
    "with open(\"letter_data.csv\",'r') as csv_file:\n",
    "    csv_reader = csv.reader(csv_file, delimiter = ',')\n",
    "    arrays = []\n",
    "    letters = []\n",
    "    for line in csv_reader:\n",
    "        if line[0].isnumeric():\n",
    "            letters.append(float(ord(line[1]))) #changed characters to ascii ints and then to floats\n",
    "            letter_data = []\n",
    "            first = 6\n",
    "            last = 14\n",
    "            for i in range(16):\n",
    "                row = line[first:last]\n",
    "                letter_data.append(row)\n",
    "                first += 8; last += 8\n",
    "            letter_array = np.array(letter_data)\n",
    "            arrays.append(letter_array.astype(np.float32))\n",
    "        else:\n",
    "            continue"
   ]
  },
  {
   "cell_type": "markdown",
   "metadata": {},
   "source": [
    "Arrays are restoreed to variables features and labels. Labels contains Ascii info of letters and features contains image arrays."
   ]
  },
  {
   "cell_type": "code",
   "execution_count": 3,
   "metadata": {},
   "outputs": [],
   "source": [
    "features = np.array(arrays)\n",
    "labels = np.array(letters)"
   ]
  },
  {
   "cell_type": "markdown",
   "metadata": {},
   "source": [
    "Let's check arrays."
   ]
  },
  {
   "cell_type": "code",
   "execution_count": 4,
   "metadata": {},
   "outputs": [
    {
     "name": "stdout",
     "output_type": "stream",
     "text": [
      "Letter: o\n"
     ]
    },
    {
     "data": {
      "image/png": "[encoded data removed]",
      "text/plain": [
       "<Figure size 432x288 with 2 Axes>"
      ]
     },
     "metadata": {
      "needs_background": "light"
     },
     "output_type": "display_data"
    }
   ],
   "source": [
    "print(\"Letter:\", chr(int(labels[2500])))\n",
    "\n",
    "im = features[2500]\n",
    "for row in im:\n",
    "    row.astype(np.uint8)\n",
    "    \n",
    "plt.figure()\n",
    "plt.imshow(im)\n",
    "plt.colorbar()\n",
    "plt.show()\n"
   ]
  },
  {
   "cell_type": "markdown",
   "metadata": {},
   "source": [
    "## Models"
   ]
  },
  {
   "cell_type": "markdown",
   "metadata": {},
   "source": [
    "### Artifical Neural Network (ANN)"
   ]
  },
  {
   "cell_type": "code",
   "execution_count": 5,
   "metadata": {},
   "outputs": [],
   "source": [
    "model = tf.keras.models.Sequential([\n",
    "  tf.keras.layers.Flatten(input_shape=(16, 8)),\n",
    "  tf.keras.layers.Dense(128, activation='relu'),\n",
    "  tf.keras.layers.Dropout(0.2),\n",
    "  tf.keras.layers.Dense(127)\n",
    "])\n"
   ]
  },
  {
   "cell_type": "code",
   "execution_count": 6,
   "metadata": {},
   "outputs": [],
   "source": [
    "loss_fn = tf.keras.losses.SparseCategoricalCrossentropy(from_logits=True)\n",
    "model.compile(optimizer='adam',\n",
    "              loss=loss_fn,\n",
    "              metrics=['accuracy'])"
   ]
  },
  {
   "cell_type": "code",
   "execution_count": 20,
   "metadata": {},
   "outputs": [
    {
     "name": "stdout",
     "output_type": "stream",
     "text": [
      "Epoch 1/10\n",
      "1304/1304 [==============================] - 3s 2ms/step - loss: 0.3197 - accuracy: 0.8980 - val_loss: 0.4781 - val_accuracy: 0.8635\n",
      "Epoch 2/10\n",
      "1304/1304 [==============================] - 3s 2ms/step - loss: 0.3158 - accuracy: 0.8985 - val_loss: 0.4603 - val_accuracy: 0.8644\n",
      "Epoch 3/10\n",
      "1304/1304 [==============================] - 3s 2ms/step - loss: 0.3115 - accuracy: 0.9007 - val_loss: 0.4672 - val_accuracy: 0.8652\n",
      "Epoch 4/10\n",
      "1304/1304 [==============================] - 3s 2ms/step - loss: 0.3047 - accuracy: 0.9014 - val_loss: 0.4696 - val_accuracy: 0.8651\n",
      "Epoch 5/10\n",
      "1304/1304 [==============================] - 3s 2ms/step - loss: 0.3055 - accuracy: 0.9023 - val_loss: 0.4599 - val_accuracy: 0.8673\n",
      "Epoch 6/10\n",
      "1304/1304 [==============================] - 3s 2ms/step - loss: 0.2965 - accuracy: 0.9041 - val_loss: 0.4881 - val_accuracy: 0.8617\n",
      "Epoch 7/10\n",
      "1304/1304 [==============================] - 3s 2ms/step - loss: 0.2963 - accuracy: 0.9024 - val_loss: 0.4651 - val_accuracy: 0.8649\n",
      "Epoch 8/10\n",
      "1304/1304 [==============================] - 3s 2ms/step - loss: 0.2945 - accuracy: 0.9047 - val_loss: 0.4637 - val_accuracy: 0.8653\n",
      "Epoch 9/10\n",
      "1304/1304 [==============================] - 3s 2ms/step - loss: 0.2927 - accuracy: 0.9043 - val_loss: 0.4640 - val_accuracy: 0.8656\n",
      "Epoch 10/10\n",
      "1304/1304 [==============================] - 3s 2ms/step - loss: 0.2835 - accuracy: 0.9071 - val_loss: 0.4706 - val_accuracy: 0.8660\n"
     ]
    }
   ],
   "source": [
    "training = model.fit(features, labels, validation_split = 0.2, epochs=10)"
   ]
  },
  {
   "cell_type": "code",
   "execution_count": 22,
   "metadata": {},
   "outputs": [
    {
     "data": {
      "image/png": "[encoded data removed]",
      "text/plain": [
       "<Figure size 432x288 with 1 Axes>"
      ]
     },
     "metadata": {
      "needs_background": "light"
     },
     "output_type": "display_data"
    }
   ],
   "source": [
    "\n",
    "loss_train = training.history['loss']\n",
    "loss_val = training.history['val_loss']\n",
    "ephocs = range(1,11)\n",
    "\n",
    "plt.plot(ephocs, loss_train, 'r',label = 'Training loss')\n",
    "plt.plot(ephocs,loss_val, 'b', label = 'validation loss')\n",
    "plt.title('Training and validation loss')\n",
    "plt.xlabel('Ephocs')\n",
    "plt.ylabel('Loss')\n",
    "plt.legend()\n",
    "plt.show()\n"
   ]
  },
  {
   "cell_type": "markdown",
   "metadata": {},
   "source": [
    "### Convolutional Neural Network (CNN)"
   ]
  },
  {
   "cell_type": "code",
   "execution_count": 9,
   "metadata": {},
   "outputs": [
    {
     "name": "stdout",
     "output_type": "stream",
     "text": [
      "52152\n"
     ]
    }
   ],
   "source": [
    "features_reshaped = features.reshape(52152, 16, 8, 1)"
   ]
  },
  {
   "cell_type": "code",
   "execution_count": 11,
   "metadata": {},
   "outputs": [],
   "source": [
    "CNN = tf.keras.models.Sequential()\n",
    "CNN.add(tf.keras.layers.Conv2D(32, (3, 3), activation = 'relu', input_shape = (16,8,1)))\n",
    "CNN.add(tf.keras.layers.MaxPooling2D((1,1)))\n",
    "CNN.add(tf.keras.layers.Conv2D(64, (3, 3), activation = 'relu'))\n",
    "CNN.add(tf.keras.layers.MaxPooling2D((1,1)))\n",
    "CNN.add(tf.keras.layers.Conv2D(64, (3, 3), activation = 'relu'))\n",
    "\n",
    "CNN.add(tf.keras.layers.Flatten())\n",
    "CNN.add(tf.keras.layers.Dense(64, activation='relu'))\n",
    "CNN.add(tf.keras.layers.Dense(127))"
   ]
  },
  {
   "cell_type": "code",
   "execution_count": 12,
   "metadata": {},
   "outputs": [
    {
     "name": "stdout",
     "output_type": "stream",
     "text": [
      "Epoch 1/10\n",
      "1304/1304 [==============================] - 22s 17ms/step - loss: 0.8365 - accuracy: 0.7641 - val_loss: 0.5843 - val_accuracy: 0.8215\n",
      "Epoch 2/10\n",
      "1304/1304 [==============================] - 22s 17ms/step - loss: 0.3910 - accuracy: 0.8785 - val_loss: 0.4489 - val_accuracy: 0.8673\n",
      "Epoch 3/10\n",
      "1304/1304 [==============================] - 21s 16ms/step - loss: 0.3113 - accuracy: 0.9016 - val_loss: 0.3912 - val_accuracy: 0.8801\n",
      "Epoch 4/10\n",
      "1304/1304 [==============================] - 22s 17ms/step - loss: 0.2685 - accuracy: 0.9129 - val_loss: 0.3540 - val_accuracy: 0.8913\n",
      "Epoch 5/10\n",
      "1304/1304 [==============================] - 22s 17ms/step - loss: 0.2391 - accuracy: 0.9219 - val_loss: 0.3451 - val_accuracy: 0.8973\n",
      "Epoch 6/10\n",
      "1304/1304 [==============================] - 21s 16ms/step - loss: 0.2140 - accuracy: 0.9282 - val_loss: 0.3688 - val_accuracy: 0.8923\n",
      "Epoch 7/10\n",
      "1304/1304 [==============================] - 21s 16ms/step - loss: 0.1899 - accuracy: 0.9356 - val_loss: 0.3527 - val_accuracy: 0.8930\n",
      "Epoch 8/10\n",
      "1304/1304 [==============================] - 22s 17ms/step - loss: 0.1707 - accuracy: 0.9404 - val_loss: 0.3530 - val_accuracy: 0.8993\n",
      "Epoch 9/10\n",
      "1304/1304 [==============================] - 21s 16ms/step - loss: 0.1556 - accuracy: 0.9451 - val_loss: 0.3366 - val_accuracy: 0.9087\n",
      "Epoch 10/10\n",
      "1304/1304 [==============================] - 22s 17ms/step - loss: 0.1426 - accuracy: 0.9493 - val_loss: 0.3598 - val_accuracy: 0.9031\n"
     ]
    }
   ],
   "source": [
    "CNN.compile(optimizer='adam',\n",
    "              loss=tf.keras.losses.SparseCategoricalCrossentropy(from_logits=True),\n",
    "              metrics=['accuracy'])\n",
    "\n",
    "training2 = CNN.fit(features_reshaped, labels,validation_split = 0.2, epochs=10)"
   ]
  },
  {
   "cell_type": "code",
   "execution_count": 13,
   "metadata": {},
   "outputs": [
    {
     "data": {
      "image/png": "[encoded data removed]",
      "text/plain": [
       "<Figure size 432x288 with 1 Axes>"
      ]
     },
     "metadata": {
      "needs_background": "light"
     },
     "output_type": "display_data"
    }
   ],
   "source": [
    "loss_train = training2.history['loss']\n",
    "loss_val = training2.history['val_loss']\n",
    "ephocs = range(1,11)\n",
    "\n",
    "plt.plot(ephocs, loss_train, 'r',label = 'Training loss')\n",
    "plt.plot(ephocs,loss_val, 'b', label = 'validation loss')\n",
    "plt.title('Training and validation loss')\n",
    "plt.xlabel('Ephocs')\n",
    "plt.ylabel('Loss')\n",
    "plt.legend()\n",
    "plt.show()\n"
   ]
  },
  {
   "cell_type": "markdown",
   "metadata": {},
   "source": [
    "### Recurrent Neural Network (RNN)"
   ]
  },
  {
   "cell_type": "code",
   "execution_count": 17,
   "metadata": {},
   "outputs": [],
   "source": [
    "RNN = tf.keras.models.Sequential()\n",
    "RNN.add(tf.keras.layers.Bidirectional(tf.keras.layers.LSTM(64, return_sequences=True), input_shape=(16,8)))\n",
    "RNN.add(tf.keras.layers.Bidirectional(tf.keras.layers.LSTM(32)))\n",
    "RNN.add(tf.keras.layers.Dense(127))"
   ]
  },
  {
   "cell_type": "code",
   "execution_count": 18,
   "metadata": {},
   "outputs": [
    {
     "name": "stdout",
     "output_type": "stream",
     "text": [
      "Epoch 1/10\n"
     ]
    },
    {
     "name": "stderr",
     "output_type": "stream",
     "text": [
      "Exception ignored in: <function WeakKeyDictionary.__init__.<locals>.remove at 0x7fa7bb7d9820>\n",
      "Traceback (most recent call last):\n",
      "  File \"/opt/conda/lib/python3.8/weakref.py\", line 345, in remove\n",
      "    def remove(k, selfref=ref(self)):\n",
      "KeyboardInterrupt: \n"
     ]
    },
    {
     "name": "stdout",
     "output_type": "stream",
     "text": [
      "1304/1304 [==============================] - 75s 58ms/step - loss: 1.3998 - accuracy: 0.6137 - val_loss: 0.9158 - val_accuracy: 0.7437\n",
      "Epoch 2/10\n",
      "1304/1304 [==============================] - 67s 51ms/step - loss: 0.6243 - accuracy: 0.8193 - val_loss: 0.6561 - val_accuracy: 0.8059\n",
      "Epoch 3/10\n",
      "1304/1304 [==============================] - 68s 52ms/step - loss: 0.4717 - accuracy: 0.8598 - val_loss: 0.5782 - val_accuracy: 0.8276\n",
      "Epoch 4/10\n",
      "1304/1304 [==============================] - 67s 52ms/step - loss: 0.3976 - accuracy: 0.8803 - val_loss: 0.4962 - val_accuracy: 0.8532\n",
      "Epoch 5/10\n",
      "1304/1304 [==============================] - 66s 51ms/step - loss: 0.3542 - accuracy: 0.8916 - val_loss: 0.4524 - val_accuracy: 0.8633\n",
      "Epoch 6/10\n",
      "1304/1304 [==============================] - 65s 50ms/step - loss: 0.3187 - accuracy: 0.9003 - val_loss: 0.4279 - val_accuracy: 0.8705\n",
      "Epoch 7/10\n",
      "1304/1304 [==============================] - 64s 49ms/step - loss: 0.2908 - accuracy: 0.9082 - val_loss: 0.4131 - val_accuracy: 0.8724\n",
      "Epoch 8/10\n",
      "1304/1304 [==============================] - 64s 49ms/step - loss: 0.2687 - accuracy: 0.9148 - val_loss: 0.3966 - val_accuracy: 0.8761\n",
      "Epoch 9/10\n",
      "1304/1304 [==============================] - 60s 46ms/step - loss: 0.2515 - accuracy: 0.9188 - val_loss: 0.3604 - val_accuracy: 0.8910\n",
      "Epoch 10/10\n",
      "1304/1304 [==============================] - 62s 48ms/step - loss: 0.2335 - accuracy: 0.9247 - val_loss: 0.3336 - val_accuracy: 0.8946\n"
     ]
    }
   ],
   "source": [
    "RNN.compile(\n",
    "    loss=tf.keras.losses.SparseCategoricalCrossentropy(from_logits=True),\n",
    "    optimizer=\"adam\",\n",
    "    metrics=[\"accuracy\"],\n",
    ")\n",
    "training3 = RNN.fit(features, labels,validation_split = 0.2, epochs=10)\n"
   ]
  },
  {
   "cell_type": "code",
   "execution_count": 19,
   "metadata": {},
   "outputs": [
    {
     "data": {
      "image/png": "[encoded data removed]",
      "text/plain": [
       "<Figure size 432x288 with 1 Axes>"
      ]
     },
     "metadata": {
      "needs_background": "light"
     },
     "output_type": "display_data"
    }
   ],
   "source": [
    "loss_train = training3.history['loss']\n",
    "loss_val = training3.history['val_loss']\n",
    "ephocs = range(1,11)\n",
    "\n",
    "plt.plot(ephocs, loss_train, 'r',label = 'Training loss')\n",
    "plt.plot(ephocs,loss_val, 'b', label = 'validation loss')\n",
    "plt.title('Training and validation loss')\n",
    "plt.xlabel('Ephocs')\n",
    "plt.ylabel('Loss')\n",
    "plt.legend()\n",
    "plt.show()\n"
   ]
  },
  {
   "cell_type": "code",
   "execution_count": null,
   "metadata": {},
   "outputs": [],
   "source": []
  }
 ],
 "metadata": {
  "kernelspec": {
   "display_name": "Python 3",
   "language": "python",
   "name": "python3"
  },
  "language_info": {
   "codemirror_mode": {
    "name": "ipython",
    "version": 3
   },
   "file_extension": ".py",
   "mimetype": "text/x-python",
   "name": "python",
   "nbconvert_exporter": "python",
   "pygments_lexer": "ipython3",
   "version": "3.8.6"
  }
 },
 "nbformat": 4,
 "nbformat_minor": 4
}
