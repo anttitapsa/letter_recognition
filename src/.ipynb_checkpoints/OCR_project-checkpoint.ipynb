{
 "cells": [
  {
   "cell_type": "markdown",
   "metadata": {},
   "source": [
    "# Handwritten letter recognition with machine learning"
   ]
  },
  {
   "cell_type": "markdown",
   "metadata": {},
   "source": [
    "Project for Aalto universitys course CS-C3240 Machine learning D. This projects goal is to compare different deep learning methods for the Handwritten letter recognition. Main library, which is used for making networks, in this project is tensorflow."
   ]
  },
  {
   "cell_type": "markdown",
   "metadata": {},
   "source": [
    "## Data and preparing it"
   ]
  },
  {
   "cell_type": "markdown",
   "metadata": {},
   "source": [
    "importing needed libraries (tensorflow, numpy and matplotlib)"
   ]
  },
  {
   "cell_type": "code",
   "execution_count": 1,
   "metadata": {},
   "outputs": [],
   "source": [
    "import csv\n",
    "import matplotlib.pyplot as plt\n",
    "import numpy as np\n",
    "import tensorflow as tf\n",
    "from tensorflow.keras import layers"
   ]
  },
  {
   "cell_type": "markdown",
   "metadata": {},
   "source": [
    "Dataset used in project is download from http://ai.stanford.edu/~btaskar/ocr/ and converted to csv file type. Dataset contains handwritten words, which have been divided into letters, collected by Rob Kassel at MIT Spoken Language Systems Group.\n",
    "\n",
    "Data contains fields:\n",
    "\n",
    "1. id: each letter is assigned a unique integer id\n",
    "2. letter: a-z\n",
    "3. next_id: id for next letter in the word, -1 if last letter\n",
    "4. word_id: each word is assigned a unique integer id (not used)\n",
    "5. position: position of letter in the word (not used)\n",
    "6. fold: 0-9 -- cross-validation fold\n",
    "7. p_i_j: 0/1 -- value of pixel in row i, column j"
   ]
  },
  {
   "cell_type": "markdown",
   "metadata": {},
   "source": [
    "Data is converted two numpy arrays. Array named letters have info  of letter as ascii value. Types of valeus are floats. Arrays contains the image arrays of letters. Types of values are float32."
   ]
  },
  {
   "cell_type": "code",
   "execution_count": 2,
   "metadata": {},
   "outputs": [],
   "source": [
    "with open(\"letter_data.csv\",'r') as csv_file:\n",
    "    csv_reader = csv.reader(csv_file, delimiter = ',')\n",
    "    arrays = []\n",
    "    letters = []\n",
    "    for line in csv_reader:\n",
    "        if line[0].isnumeric():\n",
    "            letters.append(float(ord(line[1]))) #changed characters to ascii ints and then to floats\n",
    "            letter_data = []\n",
    "            first = 6\n",
    "            last = 14\n",
    "            for i in range(16):\n",
    "                row = line[first:last]\n",
    "                letter_data.append(row)\n",
    "                first += 8; last += 8\n",
    "            letter_array = np.array(letter_data)\n",
    "            arrays.append(letter_array.astype(np.float32))\n",
    "        else:\n",
    "            continue"
   ]
  },
  {
   "cell_type": "markdown",
   "metadata": {},
   "source": [
    "Arrays are restoreed to variables features and labels. Labels contains Ascii info of letters and features contains image arrays."
   ]
  },
  {
   "cell_type": "code",
   "execution_count": 3,
   "metadata": {},
   "outputs": [],
   "source": [
    "features = np.array(arrays)\n",
    "labels = np.array(letters)"
   ]
  },
  {
   "cell_type": "markdown",
   "metadata": {},
   "source": [
    "Let's check arrays."
   ]
  },
  {
   "cell_type": "code",
   "execution_count": 4,
   "metadata": {},
   "outputs": [
    {
     "name": "stdout",
     "output_type": "stream",
     "text": [
      "Letter: m\n"
     ]
    },
    {
     "data": {
      "image/png": "[encoded data removed]",
      "text/plain": [
       "<Figure size 432x288 with 2 Axes>"
      ]
     },
     "metadata": {
      "needs_background": "light"
     },
     "output_type": "display_data"
    }
   ],
   "source": [
    "print(\"Letter:\", chr(int(labels[50300])))\n",
    "\n",
    "im = features[50300]\n",
    "for row in im:\n",
    "    row.astype(np.uint8)\n",
    "    \n",
    "plt.figure()\n",
    "plt.imshow(im)\n",
    "plt.colorbar()\n",
    "plt.show()\n"
   ]
  },
  {
   "cell_type": "markdown",
   "metadata": {},
   "source": [
    "## Models"
   ]
  },
  {
   "cell_type": "markdown",
   "metadata": {},
   "source": [
    "In every model used loss function is Cathegorical cross-entropy function."
   ]
  },
  {
   "cell_type": "markdown",
   "metadata": {},
   "source": [
    "$ Loss = - \\sum \\limits_{i=1} ^{Output\\_size} y_i * log{\\hat{y}_i} $"
   ]
  },
  {
   "cell_type": "markdown",
   "metadata": {},
   "source": [
    "Where $\\hat{y}_i$ is the $i$-th scalar value of the output, and $y_i$ is the correspondin target value."
   ]
  },
  {
   "cell_type": "markdown",
   "metadata": {},
   "source": [
    "### Artifical Neural Network (ANN)"
   ]
  },
  {
   "cell_type": "code",
   "execution_count": 5,
   "metadata": {},
   "outputs": [],
   "source": [
    "model = tf.keras.models.Sequential([\n",
    "  tf.keras.layers.Flatten(input_shape=(16, 8)),\n",
    "  tf.keras.layers.Dense(128, activation='relu'),\n",
    "  tf.keras.layers.Dropout(0.2),\n",
    "  tf.keras.layers.Dense(127)\n",
    "])\n"
   ]
  },
  {
   "cell_type": "code",
   "execution_count": 6,
   "metadata": {},
   "outputs": [],
   "source": [
    "loss_fn = tf.keras.losses.SparseCategoricalCrossentropy(from_logits=True)\n",
    "model.compile(optimizer='adam',\n",
    "              loss=loss_fn,\n",
    "              metrics=['accuracy'])"
   ]
  },
  {
   "cell_type": "code",
   "execution_count": 7,
   "metadata": {},
   "outputs": [
    {
     "name": "stdout",
     "output_type": "stream",
     "text": [
      "Epoch 1/10\n",
      "1304/1304 [==============================] - 3s 2ms/step - loss: 1.3487 - accuracy: 0.6340 - val_loss: 0.9638 - val_accuracy: 0.7222\n",
      "Epoch 2/10\n",
      "1304/1304 [==============================] - 2s 2ms/step - loss: 0.8057 - accuracy: 0.7731 - val_loss: 0.7811 - val_accuracy: 0.7718\n",
      "Epoch 3/10\n",
      "1304/1304 [==============================] - 3s 2ms/step - loss: 0.6649 - accuracy: 0.8102 - val_loss: 0.6454 - val_accuracy: 0.8152\n",
      "Epoch 4/10\n",
      "1304/1304 [==============================] - 3s 2ms/step - loss: 0.5896 - accuracy: 0.8303 - val_loss: 0.6050 - val_accuracy: 0.8232\n",
      "Epoch 5/10\n",
      "1304/1304 [==============================] - 3s 2ms/step - loss: 0.5374 - accuracy: 0.8435 - val_loss: 0.5753 - val_accuracy: 0.8328\n",
      "Epoch 6/10\n",
      "1304/1304 [==============================] - 3s 2ms/step - loss: 0.5018 - accuracy: 0.8520 - val_loss: 0.5456 - val_accuracy: 0.8417\n",
      "Epoch 7/10\n",
      "1304/1304 [==============================] - 3s 2ms/step - loss: 0.4729 - accuracy: 0.8593 - val_loss: 0.5188 - val_accuracy: 0.8457\n",
      "Epoch 8/10\n",
      "1304/1304 [==============================] - 3s 2ms/step - loss: 0.4479 - accuracy: 0.8663 - val_loss: 0.5178 - val_accuracy: 0.8454\n",
      "Epoch 9/10\n",
      "1304/1304 [==============================] - 3s 2ms/step - loss: 0.4314 - accuracy: 0.8700 - val_loss: 0.5015 - val_accuracy: 0.8538\n",
      "Epoch 10/10\n",
      "1304/1304 [==============================] - 3s 2ms/step - loss: 0.4124 - accuracy: 0.8745 - val_loss: 0.4793 - val_accuracy: 0.8594\n"
     ]
    }
   ],
   "source": [
    "training = model.fit(features, labels, validation_split = 0.2, epochs=10)"
   ]
  },
  {
   "cell_type": "code",
   "execution_count": 8,
   "metadata": {},
   "outputs": [
    {
     "data": {
      "image/png": "[encoded data removed]",
      "text/plain": [
       "<Figure size 432x288 with 1 Axes>"
      ]
     },
     "metadata": {
      "needs_background": "light"
     },
     "output_type": "display_data"
    }
   ],
   "source": [
    "\n",
    "loss_train = training.history['loss']\n",
    "loss_val = training.history['val_loss']\n",
    "ephocs = range(1,11)\n",
    "\n",
    "plt.plot(ephocs, loss_train, 'r',label = 'Training loss')\n",
    "plt.plot(ephocs,loss_val, 'b', label = 'validation loss')\n",
    "plt.title('Training and validation loss')\n",
    "plt.xlabel('Ephocs')\n",
    "plt.ylabel('Loss')\n",
    "axes = plt.gca()\n",
    "axes.set_ylim([0,1.3])\n",
    "plt.legend()\n",
    "plt.show()\n"
   ]
  },
  {
   "cell_type": "markdown",
   "metadata": {},
   "source": [
    "### Convolutional Neural Network (CNN)"
   ]
  },
  {
   "cell_type": "code",
   "execution_count": 9,
   "metadata": {},
   "outputs": [],
   "source": [
    "features_reshaped = features.reshape(52152, 16, 8, 1)"
   ]
  },
  {
   "cell_type": "code",
   "execution_count": 10,
   "metadata": {},
   "outputs": [],
   "source": [
    "CNN = tf.keras.models.Sequential()\n",
    "CNN.add(tf.keras.layers.Conv2D(32, (3, 3), activation = 'relu', input_shape = (16,8,1)))\n",
    "CNN.add(tf.keras.layers.MaxPooling2D((1,1)))\n",
    "CNN.add(tf.keras.layers.Conv2D(64, (3, 3), activation = 'relu'))\n",
    "CNN.add(tf.keras.layers.MaxPooling2D((1,1)))\n",
    "CNN.add(tf.keras.layers.Conv2D(64, (3, 3), activation = 'relu'))\n",
    "\n",
    "CNN.add(tf.keras.layers.Flatten())\n",
    "CNN.add(tf.keras.layers.Dense(64, activation='relu'))\n",
    "CNN.add(tf.keras.layers.Dense(127))"
   ]
  },
  {
   "cell_type": "code",
   "execution_count": 11,
   "metadata": {},
   "outputs": [
    {
     "name": "stdout",
     "output_type": "stream",
     "text": [
      "Epoch 1/10\n",
      "1304/1304 [==============================] - 26s 20ms/step - loss: 0.8315 - accuracy: 0.7639 - val_loss: 0.5503 - val_accuracy: 0.7990\n",
      "Epoch 2/10\n",
      "1304/1304 [==============================] - 25s 19ms/step - loss: 0.3802 - accuracy: 0.8813 - val_loss: 0.4554 - val_accuracy: 0.8543\n",
      "Epoch 3/10\n",
      "1304/1304 [==============================] - 25s 20ms/step - loss: 0.3057 - accuracy: 0.9001 - val_loss: 0.3605 - val_accuracy: 0.8886\n",
      "Epoch 4/10\n",
      "1304/1304 [==============================] - 25s 19ms/step - loss: 0.2614 - accuracy: 0.9151 - val_loss: 0.3585 - val_accuracy: 0.8882\n",
      "Epoch 5/10\n",
      "1304/1304 [==============================] - 25s 19ms/step - loss: 0.2308 - accuracy: 0.9233 - val_loss: 0.3702 - val_accuracy: 0.8925\n",
      "Epoch 6/10\n",
      "1304/1304 [==============================] - 24s 18ms/step - loss: 0.2081 - accuracy: 0.9298 - val_loss: 0.3258 - val_accuracy: 0.9039\n",
      "Epoch 7/10\n",
      "1304/1304 [==============================] - 25s 19ms/step - loss: 0.1852 - accuracy: 0.9356 - val_loss: 0.3272 - val_accuracy: 0.9062\n",
      "Epoch 8/10\n",
      "1304/1304 [==============================] - 25s 19ms/step - loss: 0.1667 - accuracy: 0.9428 - val_loss: 0.3398 - val_accuracy: 0.9084\n",
      "Epoch 9/10\n",
      "1304/1304 [==============================] - 26s 20ms/step - loss: 0.1505 - accuracy: 0.9460 - val_loss: 0.3521 - val_accuracy: 0.9042\n",
      "Epoch 10/10\n",
      "1304/1304 [==============================] - 32s 24ms/step - loss: 0.1387 - accuracy: 0.9498 - val_loss: 0.3678 - val_accuracy: 0.9023\n"
     ]
    }
   ],
   "source": [
    "CNN.compile(optimizer='adam',\n",
    "              loss=tf.keras.losses.SparseCategoricalCrossentropy(from_logits=True),\n",
    "              metrics=['accuracy'])\n",
    "\n",
    "training2 = CNN.fit(features_reshaped, labels,validation_split = 0.2, epochs=10)"
   ]
  },
  {
   "cell_type": "code",
   "execution_count": 12,
   "metadata": {},
   "outputs": [
    {
     "data": {
      "image/png": "[encoded data removed]",
      "text/plain": [
       "<Figure size 432x288 with 1 Axes>"
      ]
     },
     "metadata": {
      "needs_background": "light"
     },
     "output_type": "display_data"
    }
   ],
   "source": [
    "loss_train = training2.history['loss']\n",
    "loss_val = training2.history['val_loss']\n",
    "ephocs = range(1,11)\n",
    "\n",
    "plt.plot(ephocs, loss_train, 'r',label = 'Training loss')\n",
    "plt.plot(ephocs,loss_val, 'b', label = 'validation loss')\n",
    "plt.title('Training and validation loss')\n",
    "plt.xlabel('Ephocs')\n",
    "plt.ylabel('Loss')\n",
    "axes = plt.gca()\n",
    "axes.set_ylim([0,1.3])\n",
    "plt.legend()\n",
    "plt.show()\n"
   ]
  },
  {
   "cell_type": "markdown",
   "metadata": {},
   "source": [
    "### Recurrent Neural Network (RNN)"
   ]
  },
  {
   "cell_type": "code",
   "execution_count": 13,
   "metadata": {},
   "outputs": [],
   "source": [
    "RNN = tf.keras.models.Sequential()\n",
    "RNN.add(tf.keras.layers.Bidirectional(tf.keras.layers.LSTM(64, return_sequences=True), input_shape=(16,8)))\n",
    "RNN.add(tf.keras.layers.Bidirectional(tf.keras.layers.LSTM(32)))\n",
    "RNN.add(tf.keras.layers.Dense(127))"
   ]
  },
  {
   "cell_type": "code",
   "execution_count": null,
   "metadata": {},
   "outputs": [
    {
     "name": "stdout",
     "output_type": "stream",
     "text": [
      "Epoch 1/10\n",
      " 534/1304 [===========>..................] - ETA: 1:05 - loss: 2.2736 - accuracy: 0.3570"
     ]
    }
   ],
   "source": [
    "RNN.compile(\n",
    "    loss=tf.keras.losses.SparseCategoricalCrossentropy(from_logits=True),\n",
    "    optimizer=\"adam\",\n",
    "    metrics=[\"accuracy\"],\n",
    ")\n",
    "training3 = RNN.fit(features, labels,validation_split = 0.2, epochs=10)\n"
   ]
  },
  {
   "cell_type": "code",
   "execution_count": null,
   "metadata": {},
   "outputs": [],
   "source": [
    "loss_train = training3.history['loss']\n",
    "loss_val = training3.history['val_loss']\n",
    "ephocs = range(1,11)\n",
    "\n",
    "plt.plot(ephocs, loss_train, 'r',label = 'Training loss')\n",
    "plt.plot(ephocs,loss_val, 'b', label = 'validation loss')\n",
    "plt.title('Training and validation loss')\n",
    "plt.xlabel('Ephocs')\n",
    "plt.ylabel('Loss')\n",
    "axes = plt.gca()\n",
    "axes.set_ylim([0,1.3])\n",
    "plt.legend()\n",
    "plt.show()\n"
   ]
  },
  {
   "cell_type": "markdown",
   "metadata": {},
   "source": [
    "## References"
   ]
  },
  {
   "cell_type": "markdown",
   "metadata": {},
   "source": [
    "https://peltarion.com/knowledge-center/documentation/modeling-view/build-an-ai-model/loss-functions/categorical-crossentropy"
   ]
  },
  {
   "cell_type": "markdown",
   "metadata": {},
   "source": [
    "https://www.tensorflow.org/"
   ]
  },
  {
   "cell_type": "markdown",
   "metadata": {},
   "source": [
    "https://matplotlib.org/"
   ]
  },
  {
   "cell_type": "markdown",
   "metadata": {},
   "source": [
    "http://ai.stanford.edu/~btaskar/ocr/"
   ]
  },
  {
   "cell_type": "markdown",
   "metadata": {},
   "source": [
    "Lecture: Stephan Sigg, Machine learning for pervasive systems, 29-Jan-2021"
   ]
  },
  {
   "cell_type": "markdown",
   "metadata": {},
   "source": [
    "Alexander Jung(2021): Machine Learning: The basics. \n",
    "Available at https://github.com/alexjungaalto/MachineLearningTheBasics/blob/master/MLBasicsBook.pdf"
   ]
  }
 ],
 "metadata": {
  "kernelspec": {
   "display_name": "Python 3",
   "language": "python",
   "name": "python3"
  },
  "language_info": {
   "codemirror_mode": {
    "name": "ipython",
    "version": 3
   },
   "file_extension": ".py",
   "mimetype": "text/x-python",
   "name": "python",
   "nbconvert_exporter": "python",
   "pygments_lexer": "ipython3",
   "version": "3.8.6"
  }
 },
 "nbformat": 4,
 "nbformat_minor": 4
}
