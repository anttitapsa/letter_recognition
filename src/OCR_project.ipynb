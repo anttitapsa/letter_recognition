{
 "cells": [
  {
   "cell_type": "markdown",
   "metadata": {},
   "source": [
    "# Handwritten letter recognition with machine learning"
   ]
  },
  {
   "cell_type": "markdown",
   "metadata": {},
   "source": [
    "## Data and preparing it"
   ]
  },
  {
   "cell_type": "markdown",
   "metadata": {},
   "source": [
    "importing needed libraries (tensorflow and matplotlib)"
   ]
  },
  {
   "cell_type": "code",
   "execution_count": 1,
   "metadata": {},
   "outputs": [],
   "source": [
    "import csv\n",
    "import matplotlib.pyplot as plt\n",
    "import numpy as np\n",
    "import tensorflow as tf\n",
    "\n",
    "from PIL import Image"
   ]
  },
  {
   "cell_type": "markdown",
   "metadata": {},
   "source": [
    "Dataset used in project is download from http://ai.stanford.edu/~btaskar/ocr/ and converted to csv file type. Dataset contains handwritten words, which have been divided into letters, collected by Rob Kassel at MIT Spoken Language Systems Group.\n",
    "\n",
    "Data contains fields:\n",
    "\n",
    "1. id: each letter is assigned a unique integer id\n",
    "2. letter: a-z\n",
    "3. next_id: id for next letter in the word, -1 if last letter\n",
    "4. word_id: each word is assigned a unique integer id (not used)\n",
    "5. position: position of letter in the word (not used)\n",
    "6. fold: 0-9 -- cross-validation fold\n",
    "7. p_i_j: 0/1 -- value of pixel in row i, column j"
   ]
  },
  {
   "cell_type": "markdown",
   "metadata": {},
   "source": [
    "Data is converted two numpy arrays. Array named letters have info  of letter as ascii value. Types of valeus are floats. Arrays contains the image arrays of letters. Types of values are float32."
   ]
  },
  {
   "cell_type": "code",
   "execution_count": 2,
   "metadata": {},
   "outputs": [],
   "source": [
    "with open(\"letter_data.csv\",'r') as csv_file:\n",
    "    csv_reader = csv.reader(csv_file, delimiter = ',')\n",
    "    arrays = []\n",
    "    letters = []\n",
    "    for line in csv_reader:\n",
    "        if line[0].isnumeric():\n",
    "            letters.append(float(ord(line[1]))) #changed characters to ascii ints and then to floats\n",
    "            letter_data = []\n",
    "            first = 6\n",
    "            last = 14\n",
    "            for i in range(16):\n",
    "                row = line[first:last]\n",
    "                letter_data.append(row)\n",
    "                first += 8; last += 8\n",
    "            letter_array = np.array(letter_data)\n",
    "            arrays.append(letter_array.astype(np.float32))\n",
    "        else:\n",
    "            continue"
   ]
  },
  {
   "cell_type": "markdown",
   "metadata": {},
   "source": [
    "Arrays are restoreed to variables features and labels. Labels contains Ascii info of letters and features contains image arrays."
   ]
  },
  {
   "cell_type": "code",
   "execution_count": 3,
   "metadata": {},
   "outputs": [],
   "source": [
    "features = np.array(arrays)\n",
    "labels = np.array(letters)"
   ]
  },
  {
   "cell_type": "markdown",
   "metadata": {},
   "source": [
    "Let's check arrays."
   ]
  },
  {
   "cell_type": "code",
   "execution_count": 4,
   "metadata": {},
   "outputs": [
    {
     "name": "stdout",
     "output_type": "stream",
     "text": [
      "Letter: o\n"
     ]
    },
    {
     "data": {
      "image/png": "[encoded data removed]",
      "text/plain": [
       "<Figure size 432x288 with 2 Axes>"
      ]
     },
     "metadata": {
      "needs_background": "light"
     },
     "output_type": "display_data"
    }
   ],
   "source": [
    "print(\"Letter:\", chr(int(labels[2500])))\n",
    "\n",
    "im = features[2500]\n",
    "for row in im:\n",
    "    row.astype(np.uint8)\n",
    "    \n",
    "plt.figure()\n",
    "plt.imshow(im)\n",
    "plt.colorbar()\n",
    "plt.show()\n"
   ]
  },
  {
   "cell_type": "markdown",
   "metadata": {},
   "source": [
    "## Model"
   ]
  },
  {
   "cell_type": "code",
   "execution_count": 20,
   "metadata": {},
   "outputs": [],
   "source": [
    "model = tf.keras.models.Sequential([\n",
    "  tf.keras.layers.Flatten(input_shape=(16, 8)),\n",
    "  tf.keras.layers.Dense(128, activation='relu'),\n",
    "  tf.keras.layers.Dropout(0.2),\n",
    "  tf.keras.layers.Dense(127)\n",
    "])\n"
   ]
  },
  {
   "cell_type": "code",
   "execution_count": 21,
   "metadata": {},
   "outputs": [],
   "source": [
    "loss_fn = tf.keras.losses.SparseCategoricalCrossentropy(from_logits=True)\n",
    "model.compile(optimizer='adam',\n",
    "              loss=loss_fn,\n",
    "              metrics=['accuracy'])"
   ]
  },
  {
   "cell_type": "code",
   "execution_count": 22,
   "metadata": {},
   "outputs": [
    {
     "name": "stdout",
     "output_type": "stream",
     "text": [
      "Epoch 1/20\n",
      "1304/1304 [==============================] - 2s 2ms/step - loss: 1.3468 - accuracy: 0.6336 - val_loss: 0.9589 - val_accuracy: 0.7271\n",
      "Epoch 2/20\n",
      "1304/1304 [==============================] - 2s 2ms/step - loss: 0.8092 - accuracy: 0.7721 - val_loss: 0.7718 - val_accuracy: 0.7829\n",
      "Epoch 3/20\n",
      "1304/1304 [==============================] - 2s 2ms/step - loss: 0.6703 - accuracy: 0.8094 - val_loss: 0.6770 - val_accuracy: 0.8067\n",
      "Epoch 4/20\n",
      "1304/1304 [==============================] - 2s 2ms/step - loss: 0.5871 - accuracy: 0.8320 - val_loss: 0.5985 - val_accuracy: 0.8270\n",
      "Epoch 5/20\n",
      "1304/1304 [==============================] - 2s 2ms/step - loss: 0.5387 - accuracy: 0.8445 - val_loss: 0.5933 - val_accuracy: 0.8293\n",
      "Epoch 6/20\n",
      "1304/1304 [==============================] - 2s 2ms/step - loss: 0.4978 - accuracy: 0.8550 - val_loss: 0.5367 - val_accuracy: 0.8419\n",
      "Epoch 7/20\n",
      "1304/1304 [==============================] - 2s 2ms/step - loss: 0.4728 - accuracy: 0.8592 - val_loss: 0.5333 - val_accuracy: 0.8438\n",
      "Epoch 8/20\n",
      "1304/1304 [==============================] - 2s 2ms/step - loss: 0.4479 - accuracy: 0.8665 - val_loss: 0.4971 - val_accuracy: 0.8555\n",
      "Epoch 9/20\n",
      "1304/1304 [==============================] - 2s 2ms/step - loss: 0.4288 - accuracy: 0.8700 - val_loss: 0.4839 - val_accuracy: 0.8586\n",
      "Epoch 10/20\n",
      "1304/1304 [==============================] - 2s 2ms/step - loss: 0.4143 - accuracy: 0.8748 - val_loss: 0.4795 - val_accuracy: 0.8617\n",
      "Epoch 11/20\n",
      "1304/1304 [==============================] - 2s 2ms/step - loss: 0.3999 - accuracy: 0.8765 - val_loss: 0.4912 - val_accuracy: 0.8564\n",
      "Epoch 12/20\n",
      "1304/1304 [==============================] - 2s 2ms/step - loss: 0.3842 - accuracy: 0.8826 - val_loss: 0.4729 - val_accuracy: 0.8620\n",
      "Epoch 13/20\n",
      "1304/1304 [==============================] - 2s 2ms/step - loss: 0.3785 - accuracy: 0.8815 - val_loss: 0.4651 - val_accuracy: 0.8661\n",
      "Epoch 14/20\n",
      "1304/1304 [==============================] - 2s 2ms/step - loss: 0.3711 - accuracy: 0.8849 - val_loss: 0.4781 - val_accuracy: 0.8631\n",
      "Epoch 15/20\n",
      "1304/1304 [==============================] - 2s 2ms/step - loss: 0.3617 - accuracy: 0.8868 - val_loss: 0.4633 - val_accuracy: 0.8666\n",
      "Epoch 16/20\n",
      "1304/1304 [==============================] - 2s 2ms/step - loss: 0.3480 - accuracy: 0.8912 - val_loss: 0.4618 - val_accuracy: 0.8668\n",
      "Epoch 17/20\n",
      "1304/1304 [==============================] - 2s 2ms/step - loss: 0.3489 - accuracy: 0.8914 - val_loss: 0.4733 - val_accuracy: 0.8637\n",
      "Epoch 18/20\n",
      "1304/1304 [==============================] - 2s 2ms/step - loss: 0.3397 - accuracy: 0.8927 - val_loss: 0.4731 - val_accuracy: 0.8651\n",
      "Epoch 19/20\n",
      "1304/1304 [==============================] - 2s 2ms/step - loss: 0.3312 - accuracy: 0.8948 - val_loss: 0.4762 - val_accuracy: 0.8628\n",
      "Epoch 20/20\n",
      "1304/1304 [==============================] - 2s 2ms/step - loss: 0.3275 - accuracy: 0.8967 - val_loss: 0.4855 - val_accuracy: 0.8640\n"
     ]
    }
   ],
   "source": [
    "training = model.fit(features, labels, validation_split = 0.2, epochs=20)"
   ]
  },
  {
   "cell_type": "code",
   "execution_count": 24,
   "metadata": {},
   "outputs": [
    {
     "data": {
      "image/png": "[encoded data removed]",
      "text/plain": [
       "<Figure size 432x288 with 1 Axes>"
      ]
     },
     "metadata": {
      "needs_background": "light"
     },
     "output_type": "display_data"
    }
   ],
   "source": [
    "\n",
    "loss_train = training.history['loss']\n",
    "loss_val = training.history['val_loss']\n",
    "ephocs = range(1,21)\n",
    "\n",
    "plt.plot(ephocs, loss_train, 'r',label = 'Training loss')\n",
    "plt.plot(ephocs,loss_val, 'b', label = 'validation loss')\n",
    "plt.title('Training and validation loss')\n",
    "plt.xlabel('Ephocs')\n",
    "plt.ylabel('Loss')\n",
    "plt.legend()\n",
    "plt.show()\n"
   ]
  },
  {
   "cell_type": "code",
   "execution_count": null,
   "metadata": {},
   "outputs": [],
   "source": []
  }
 ],
 "metadata": {
  "kernelspec": {
   "display_name": "Python 3",
   "language": "python",
   "name": "python3"
  },
  "language_info": {
   "codemirror_mode": {
    "name": "ipython",
    "version": 3
   },
   "file_extension": ".py",
   "mimetype": "text/x-python",
   "name": "python",
   "nbconvert_exporter": "python",
   "pygments_lexer": "ipython3",
   "version": "3.8.6"
  }
 },
 "nbformat": 4,
 "nbformat_minor": 4
}
